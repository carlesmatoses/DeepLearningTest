{
 "cells": [
  {
   "cell_type": "code",
   "execution_count": 14,
   "metadata": {},
   "outputs": [],
   "source": [
    "\n",
    "import tensorflow as tf\n",
    "import tensorflow_datasets as tfds"
   ]
  },
  {
   "cell_type": "code",
   "execution_count": 16,
   "metadata": {},
   "outputs": [
    {
     "data": {
      "text/plain": [
       "101"
      ]
     },
     "execution_count": 16,
     "metadata": {},
     "output_type": "execute_result"
    }
   ],
   "source": [
    "# Para realizar este proyecto y entrenar a la red neuronal importaremos y modificaremos una libreria publica de tensorflow. \n",
    "\n",
    "len(tfds.list_builders()) # todas las opciones"
   ]
  },
  {
   "cell_type": "code",
   "execution_count": 17,
   "metadata": {},
   "outputs": [
    {
     "name": "stderr",
     "output_type": "stream",
     "text": [
      "ERROR:absl:Failed to construct dataset mnist\n"
     ]
    },
    {
     "ename": "UnimplementedError",
     "evalue": "File system scheme 'gs' not implemented (file: 'gs://tfds-data/datasets\\mnist')",
     "output_type": "error",
     "traceback": [
      "\u001b[1;31m---------------------------------------------------------------------------\u001b[0m",
      "\u001b[1;31mUnimplementedError\u001b[0m                        Traceback (most recent call last)",
      "\u001b[1;32mc:\\Users\\selra\\Documents\\GitHub\\DeepLearningTest\\colorize.ipynb Cell 3'\u001b[0m in \u001b[0;36m<module>\u001b[1;34m\u001b[0m\n\u001b[1;32m----> <a href='vscode-notebook-cell:/c%3A/Users/selra/Documents/GitHub/DeepLearningTest/colorize.ipynb#ch0000006?line=0'>1</a>\u001b[0m Sample_dataset \u001b[39m=\u001b[39m tfds\u001b[39m.\u001b[39;49mload(\u001b[39m\"\u001b[39;49m\u001b[39mmnist\u001b[39;49m\u001b[39m\"\u001b[39;49m, split\u001b[39m=\u001b[39;49m\u001b[39m\"\u001b[39;49m\u001b[39mtrain\u001b[39;49m\u001b[39m\"\u001b[39;49m, try_gcs\u001b[39m=\u001b[39;49m\u001b[39mTrue\u001b[39;49;00m)\n\u001b[0;32m      <a href='vscode-notebook-cell:/c%3A/Users/selra/Documents/GitHub/DeepLearningTest/colorize.ipynb#ch0000006?line=1'>2</a>\u001b[0m \u001b[39massert\u001b[39;00m \u001b[39misinstance\u001b[39m(Sample_dataset, tf\u001b[39m.\u001b[39mdata\u001b[39m.\u001b[39mDataset)\n\u001b[0;32m      <a href='vscode-notebook-cell:/c%3A/Users/selra/Documents/GitHub/DeepLearningTest/colorize.ipynb#ch0000006?line=2'>3</a>\u001b[0m Sample_dataset\n",
      "File \u001b[1;32m~\\anaconda3\\envs\\tf\\lib\\site-packages\\tensorflow_datasets\\core\\api_utils.py:52\u001b[0m, in \u001b[0;36mdisallow_positional_args.<locals>.disallow_positional_args_dec\u001b[1;34m(fn, instance, args, kwargs)\u001b[0m\n\u001b[0;32m     <a href='file:///~/anaconda3/envs/tf/lib/site-packages/tensorflow_datasets/core/api_utils.py?line=49'>50</a>\u001b[0m _check_no_positional(fn, args, ismethod, allowed\u001b[39m=\u001b[39mallowed)\n\u001b[0;32m     <a href='file:///~/anaconda3/envs/tf/lib/site-packages/tensorflow_datasets/core/api_utils.py?line=50'>51</a>\u001b[0m _check_required(fn, kwargs)\n\u001b[1;32m---> <a href='file:///~/anaconda3/envs/tf/lib/site-packages/tensorflow_datasets/core/api_utils.py?line=51'>52</a>\u001b[0m \u001b[39mreturn\u001b[39;00m fn(\u001b[39m*\u001b[39;49margs, \u001b[39m*\u001b[39;49m\u001b[39m*\u001b[39;49mkwargs)\n",
      "File \u001b[1;32m~\\anaconda3\\envs\\tf\\lib\\site-packages\\tensorflow_datasets\\core\\registered.py:297\u001b[0m, in \u001b[0;36mload\u001b[1;34m(name, split, data_dir, batch_size, in_memory, shuffle_files, download, as_supervised, decoders, with_info, builder_kwargs, download_and_prepare_kwargs, as_dataset_kwargs, try_gcs)\u001b[0m\n\u001b[0;32m    <a href='file:///~/anaconda3/envs/tf/lib/site-packages/tensorflow_datasets/core/registered.py?line=293'>294</a>\u001b[0m \u001b[39melif\u001b[39;00m data_dir \u001b[39mis\u001b[39;00m \u001b[39mNone\u001b[39;00m:\n\u001b[0;32m    <a href='file:///~/anaconda3/envs/tf/lib/site-packages/tensorflow_datasets/core/registered.py?line=294'>295</a>\u001b[0m   data_dir \u001b[39m=\u001b[39m constants\u001b[39m.\u001b[39mDATA_DIR\n\u001b[1;32m--> <a href='file:///~/anaconda3/envs/tf/lib/site-packages/tensorflow_datasets/core/registered.py?line=296'>297</a>\u001b[0m dbuilder \u001b[39m=\u001b[39m builder(name, data_dir\u001b[39m=\u001b[39;49mdata_dir, \u001b[39m*\u001b[39;49m\u001b[39m*\u001b[39;49mbuilder_kwargs)\n\u001b[0;32m    <a href='file:///~/anaconda3/envs/tf/lib/site-packages/tensorflow_datasets/core/registered.py?line=297'>298</a>\u001b[0m \u001b[39mif\u001b[39;00m download:\n\u001b[0;32m    <a href='file:///~/anaconda3/envs/tf/lib/site-packages/tensorflow_datasets/core/registered.py?line=298'>299</a>\u001b[0m   download_and_prepare_kwargs \u001b[39m=\u001b[39m download_and_prepare_kwargs \u001b[39mor\u001b[39;00m {}\n",
      "File \u001b[1;32m~\\anaconda3\\envs\\tf\\lib\\site-packages\\tensorflow_datasets\\core\\registered.py:169\u001b[0m, in \u001b[0;36mbuilder\u001b[1;34m(name, **builder_init_kwargs)\u001b[0m\n\u001b[0;32m    <a href='file:///~/anaconda3/envs/tf/lib/site-packages/tensorflow_datasets/core/registered.py?line=166'>167</a>\u001b[0m   \u001b[39mraise\u001b[39;00m DatasetNotFoundError(name)\n\u001b[0;32m    <a href='file:///~/anaconda3/envs/tf/lib/site-packages/tensorflow_datasets/core/registered.py?line=167'>168</a>\u001b[0m \u001b[39mtry\u001b[39;00m:\n\u001b[1;32m--> <a href='file:///~/anaconda3/envs/tf/lib/site-packages/tensorflow_datasets/core/registered.py?line=168'>169</a>\u001b[0m   \u001b[39mreturn\u001b[39;00m _DATASET_REGISTRY[name](\u001b[39m*\u001b[39;49m\u001b[39m*\u001b[39;49mbuilder_kwargs)\n\u001b[0;32m    <a href='file:///~/anaconda3/envs/tf/lib/site-packages/tensorflow_datasets/core/registered.py?line=169'>170</a>\u001b[0m \u001b[39mexcept\u001b[39;00m \u001b[39mBaseException\u001b[39;00m:\n\u001b[0;32m    <a href='file:///~/anaconda3/envs/tf/lib/site-packages/tensorflow_datasets/core/registered.py?line=170'>171</a>\u001b[0m   logging\u001b[39m.\u001b[39merror(\u001b[39m\"\u001b[39m\u001b[39mFailed to construct dataset \u001b[39m\u001b[39m%s\u001b[39;00m\u001b[39m\"\u001b[39m, name)\n",
      "File \u001b[1;32m~\\anaconda3\\envs\\tf\\lib\\site-packages\\tensorflow_datasets\\core\\api_utils.py:52\u001b[0m, in \u001b[0;36mdisallow_positional_args.<locals>.disallow_positional_args_dec\u001b[1;34m(fn, instance, args, kwargs)\u001b[0m\n\u001b[0;32m     <a href='file:///~/anaconda3/envs/tf/lib/site-packages/tensorflow_datasets/core/api_utils.py?line=49'>50</a>\u001b[0m _check_no_positional(fn, args, ismethod, allowed\u001b[39m=\u001b[39mallowed)\n\u001b[0;32m     <a href='file:///~/anaconda3/envs/tf/lib/site-packages/tensorflow_datasets/core/api_utils.py?line=50'>51</a>\u001b[0m _check_required(fn, kwargs)\n\u001b[1;32m---> <a href='file:///~/anaconda3/envs/tf/lib/site-packages/tensorflow_datasets/core/api_utils.py?line=51'>52</a>\u001b[0m \u001b[39mreturn\u001b[39;00m fn(\u001b[39m*\u001b[39;49margs, \u001b[39m*\u001b[39;49m\u001b[39m*\u001b[39;49mkwargs)\n",
      "File \u001b[1;32m~\\anaconda3\\envs\\tf\\lib\\site-packages\\tensorflow_datasets\\core\\dataset_builder.py:182\u001b[0m, in \u001b[0;36mDatasetBuilder.__init__\u001b[1;34m(self, data_dir, config, version)\u001b[0m\n\u001b[0;32m    <a href='file:///~/anaconda3/envs/tf/lib/site-packages/tensorflow_datasets/core/dataset_builder.py?line=179'>180</a>\u001b[0m \u001b[39mself\u001b[39m\u001b[39m.\u001b[39m_version \u001b[39m=\u001b[39m \u001b[39mself\u001b[39m\u001b[39m.\u001b[39m_pick_version(version)\n\u001b[0;32m    <a href='file:///~/anaconda3/envs/tf/lib/site-packages/tensorflow_datasets/core/dataset_builder.py?line=180'>181</a>\u001b[0m \u001b[39mself\u001b[39m\u001b[39m.\u001b[39m_data_dir_root \u001b[39m=\u001b[39m os\u001b[39m.\u001b[39mpath\u001b[39m.\u001b[39mexpanduser(data_dir \u001b[39mor\u001b[39;00m constants\u001b[39m.\u001b[39mDATA_DIR)\n\u001b[1;32m--> <a href='file:///~/anaconda3/envs/tf/lib/site-packages/tensorflow_datasets/core/dataset_builder.py?line=181'>182</a>\u001b[0m \u001b[39mself\u001b[39m\u001b[39m.\u001b[39m_data_dir \u001b[39m=\u001b[39m \u001b[39mself\u001b[39;49m\u001b[39m.\u001b[39;49m_build_data_dir()\n\u001b[0;32m    <a href='file:///~/anaconda3/envs/tf/lib/site-packages/tensorflow_datasets/core/dataset_builder.py?line=182'>183</a>\u001b[0m \u001b[39mif\u001b[39;00m tf\u001b[39m.\u001b[39mio\u001b[39m.\u001b[39mgfile\u001b[39m.\u001b[39mexists(\u001b[39mself\u001b[39m\u001b[39m.\u001b[39m_data_dir):\n\u001b[0;32m    <a href='file:///~/anaconda3/envs/tf/lib/site-packages/tensorflow_datasets/core/dataset_builder.py?line=183'>184</a>\u001b[0m   logging\u001b[39m.\u001b[39minfo(\u001b[39m\"\u001b[39m\u001b[39mOverwrite dataset info from restored data version.\u001b[39m\u001b[39m\"\u001b[39m)\n",
      "File \u001b[1;32m~\\anaconda3\\envs\\tf\\lib\\site-packages\\tensorflow_datasets\\core\\dataset_builder.py:563\u001b[0m, in \u001b[0;36mDatasetBuilder._build_data_dir\u001b[1;34m(self)\u001b[0m\n\u001b[0;32m    <a href='file:///~/anaconda3/envs/tf/lib/site-packages/tensorflow_datasets/core/dataset_builder.py?line=559'>560</a>\u001b[0m   \u001b[39mreturn\u001b[39;00m version_dirnames\n\u001b[0;32m    <a href='file:///~/anaconda3/envs/tf/lib/site-packages/tensorflow_datasets/core/dataset_builder.py?line=561'>562</a>\u001b[0m \u001b[39m# Check and warn if other versions exist on disk\u001b[39;00m\n\u001b[1;32m--> <a href='file:///~/anaconda3/envs/tf/lib/site-packages/tensorflow_datasets/core/dataset_builder.py?line=562'>563</a>\u001b[0m version_dirs \u001b[39m=\u001b[39m _other_versions_on_disk()\n\u001b[0;32m    <a href='file:///~/anaconda3/envs/tf/lib/site-packages/tensorflow_datasets/core/dataset_builder.py?line=563'>564</a>\u001b[0m \u001b[39mif\u001b[39;00m version_dirs:\n\u001b[0;32m    <a href='file:///~/anaconda3/envs/tf/lib/site-packages/tensorflow_datasets/core/dataset_builder.py?line=564'>565</a>\u001b[0m   other_version \u001b[39m=\u001b[39m version_dirs[\u001b[39m0\u001b[39m][\u001b[39m0\u001b[39m]\n",
      "File \u001b[1;32m~\\anaconda3\\envs\\tf\\lib\\site-packages\\tensorflow_datasets\\core\\dataset_builder.py:550\u001b[0m, in \u001b[0;36mDatasetBuilder._build_data_dir.<locals>._other_versions_on_disk\u001b[1;34m()\u001b[0m\n\u001b[0;32m    <a href='file:///~/anaconda3/envs/tf/lib/site-packages/tensorflow_datasets/core/dataset_builder.py?line=547'>548</a>\u001b[0m \u001b[39mdef\u001b[39;00m \u001b[39m_other_versions_on_disk\u001b[39m():\n\u001b[0;32m    <a href='file:///~/anaconda3/envs/tf/lib/site-packages/tensorflow_datasets/core/dataset_builder.py?line=548'>549</a>\u001b[0m   \u001b[39m\"\"\"Returns previous versions on disk.\"\"\"\u001b[39;00m\n\u001b[1;32m--> <a href='file:///~/anaconda3/envs/tf/lib/site-packages/tensorflow_datasets/core/dataset_builder.py?line=549'>550</a>\u001b[0m   \u001b[39mif\u001b[39;00m \u001b[39mnot\u001b[39;00m tf\u001b[39m.\u001b[39;49mio\u001b[39m.\u001b[39;49mgfile\u001b[39m.\u001b[39;49mexists(builder_data_dir):\n\u001b[0;32m    <a href='file:///~/anaconda3/envs/tf/lib/site-packages/tensorflow_datasets/core/dataset_builder.py?line=550'>551</a>\u001b[0m     \u001b[39mreturn\u001b[39;00m []\n\u001b[0;32m    <a href='file:///~/anaconda3/envs/tf/lib/site-packages/tensorflow_datasets/core/dataset_builder.py?line=552'>553</a>\u001b[0m   version_dirnames \u001b[39m=\u001b[39m []\n",
      "File \u001b[1;32m~\\anaconda3\\envs\\tf\\lib\\site-packages\\tensorflow\\python\\lib\\io\\file_io.py:291\u001b[0m, in \u001b[0;36mfile_exists_v2\u001b[1;34m(path)\u001b[0m\n\u001b[0;32m    <a href='file:///~/anaconda3/envs/tf/lib/site-packages/tensorflow/python/lib/io/file_io.py?line=251'>252</a>\u001b[0m \u001b[39m\"\"\"Determines whether a path exists or not.\u001b[39;00m\n\u001b[0;32m    <a href='file:///~/anaconda3/envs/tf/lib/site-packages/tensorflow/python/lib/io/file_io.py?line=252'>253</a>\u001b[0m \n\u001b[0;32m    <a href='file:///~/anaconda3/envs/tf/lib/site-packages/tensorflow/python/lib/io/file_io.py?line=253'>254</a>\u001b[0m \u001b[39m>>> with open(\"/tmp/x\", \"w\") as f:\u001b[39;00m\n\u001b[1;32m   (...)\u001b[0m\n\u001b[0;32m    <a href='file:///~/anaconda3/envs/tf/lib/site-packages/tensorflow/python/lib/io/file_io.py?line=287'>288</a>\u001b[0m \u001b[39m  errors.OpError: Propagates any errors reported by the FileSystem API.\u001b[39;00m\n\u001b[0;32m    <a href='file:///~/anaconda3/envs/tf/lib/site-packages/tensorflow/python/lib/io/file_io.py?line=288'>289</a>\u001b[0m \u001b[39m\"\"\"\u001b[39;00m\n\u001b[0;32m    <a href='file:///~/anaconda3/envs/tf/lib/site-packages/tensorflow/python/lib/io/file_io.py?line=289'>290</a>\u001b[0m \u001b[39mtry\u001b[39;00m:\n\u001b[1;32m--> <a href='file:///~/anaconda3/envs/tf/lib/site-packages/tensorflow/python/lib/io/file_io.py?line=290'>291</a>\u001b[0m   _pywrap_file_io\u001b[39m.\u001b[39;49mFileExists(compat\u001b[39m.\u001b[39;49mpath_to_bytes(path))\n\u001b[0;32m    <a href='file:///~/anaconda3/envs/tf/lib/site-packages/tensorflow/python/lib/io/file_io.py?line=291'>292</a>\u001b[0m \u001b[39mexcept\u001b[39;00m errors\u001b[39m.\u001b[39mNotFoundError:\n\u001b[0;32m    <a href='file:///~/anaconda3/envs/tf/lib/site-packages/tensorflow/python/lib/io/file_io.py?line=292'>293</a>\u001b[0m   \u001b[39mreturn\u001b[39;00m \u001b[39mFalse\u001b[39;00m\n",
      "\u001b[1;31mUnimplementedError\u001b[0m: File system scheme 'gs' not implemented (file: 'gs://tfds-data/datasets\\mnist')"
     ]
    }
   ],
   "source": [
    "Sample_dataset = tfds.load(\"mnist\", split=\"train\", try_gcs=True)\n",
    "assert isinstance(Sample_dataset, tf.data.Dataset)\n",
    "Sample_dataset"
   ]
  }
 ],
 "metadata": {
  "interpreter": {
   "hash": "12fc595f80d52f1ba276ed335087db65705302077615c985581f1ed8d5c8ac94"
  },
  "kernelspec": {
   "display_name": "Python 3.8.12 ('tf')",
   "language": "python",
   "name": "python3"
  },
  "language_info": {
   "codemirror_mode": {
    "name": "ipython",
    "version": 3
   },
   "file_extension": ".py",
   "mimetype": "text/x-python",
   "name": "python",
   "nbconvert_exporter": "python",
   "pygments_lexer": "ipython3",
   "version": "3.8.12"
  },
  "orig_nbformat": 4
 },
 "nbformat": 4,
 "nbformat_minor": 2
}
