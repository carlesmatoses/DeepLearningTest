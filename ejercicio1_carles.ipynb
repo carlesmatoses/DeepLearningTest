{
 "cells": [
  {
   "cell_type": "code",
   "execution_count": 1,
   "metadata": {},
   "outputs": [],
   "source": [
    "# A diferencia de el libro, utilizare siempre google tensorflow\n",
    "from tensorflow.keras.datasets import imdb"
   ]
  },
  {
   "cell_type": "code",
   "execution_count": 2,
   "metadata": {},
   "outputs": [
    {
     "name": "stderr",
     "output_type": "stream",
     "text": [
      "<__array_function__ internals>:5: VisibleDeprecationWarning: Creating an ndarray from ragged nested sequences (which is a list-or-tuple of lists-or-tuples-or ndarrays with different lengths or shapes) is deprecated. If you meant to do this, you must specify 'dtype=object' when creating the ndarray.\n",
      "C:\\Users\\selra\\anaconda3\\envs\\tf\\lib\\site-packages\\tensorflow\\python\\keras\\datasets\\imdb.py:159: VisibleDeprecationWarning: Creating an ndarray from ragged nested sequences (which is a list-or-tuple of lists-or-tuples-or ndarrays with different lengths or shapes) is deprecated. If you meant to do this, you must specify 'dtype=object' when creating the ndarray.\n",
      "  x_train, y_train = np.array(xs[:idx]), np.array(labels[:idx])\n",
      "C:\\Users\\selra\\anaconda3\\envs\\tf\\lib\\site-packages\\tensorflow\\python\\keras\\datasets\\imdb.py:160: VisibleDeprecationWarning: Creating an ndarray from ragged nested sequences (which is a list-or-tuple of lists-or-tuples-or ndarrays with different lengths or shapes) is deprecated. If you meant to do this, you must specify 'dtype=object' when creating the ndarray.\n",
      "  x_test, y_test = np.array(xs[idx:]), np.array(labels[idx:])\n"
     ]
    }
   ],
   "source": [
    "# Importamos los datos\n",
    "(train_data, train_labels), (test_data, test_labels) = imdb.load_data(num_words=10000)"
   ]
  },
  {
   "cell_type": "code",
   "execution_count": 22,
   "metadata": {},
   "outputs": [
    {
     "name": "stdout",
     "output_type": "stream",
     "text": [
      "train data: (25000,) [1, 14, 22, 16, 43, 530, 973, 1622, 1385, 65, 458, 4468, 66, 3941, 4, 173, 36, 256, 5, 25, 100, 43, 838, 112, 50, 670, 2, 9, 35, 480, 284, 5, 150, 4, 172, 112, 167, 2, 336, 385, 39, 4, 172, 4536, 1111, 17, 546, 38, 13, 447, 4, 192, 50, 16, 6, 147, 2025, 19, 14, 22, 4, 1920, 4613, 469, 4, 22, 71, 87, 12, 16, 43, 530, 38, 76, 15, 13, 1247, 4, 22, 17, 515, 17, 12, 16, 626, 18, 2, 5, 62, 386, 12, 8, 316, 8, 106, 5, 4, 2223, 5244, 16, 480, 66, 3785, 33, 4, 130, 12, 16, 38, 619, 5, 25, 124, 51, 36, 135, 48, 25, 1415, 33, 6, 22, 12, 215, 28, 77, 52, 5, 14, 407, 16, 82, 2, 8, 4, 107, 117, 5952, 15, 256, 4, 2, 7, 3766, 5, 723, 36, 71, 43, 530, 476, 26, 400, 317, 46, 7, 4, 2, 1029, 13, 104, 88, 4, 381, 15, 297, 98, 32, 2071, 56, 26, 141, 6, 194, 7486, 18, 4, 226, 22, 21, 134, 476, 26, 480, 5, 144, 30, 5535, 18, 51, 36, 28, 224, 92, 25, 104, 4, 226, 65, 16, 38, 1334, 88, 12, 16, 283, 5, 16, 4472, 113, 103, 32, 15, 16, 5345, 19, 178, 32]\n",
      "Train label:  [1 0 0 1 0]\n",
      "9999\n",
      "test data: (25000,) [1, 591, 202, 14, 31, 6, 717, 10, 10, 2, 2, 5, 4, 360, 7, 4, 177, 5760, 394, 354, 4, 123, 9, 1035, 1035, 1035, 10, 10, 13, 92, 124, 89, 488, 7944, 100, 28, 1668, 14, 31, 23, 27, 7479, 29, 220, 468, 8, 124, 14, 286, 170, 8, 157, 46, 5, 27, 239, 16, 179, 2, 38, 32, 25, 7944, 451, 202, 14, 6, 717]\n",
      "test label:  [0 1 1 0 1]\n"
     ]
    }
   ],
   "source": [
    "print(\"train data:\",train_data.shape,train_data[0]) #Lista de 25000 listas de longitud variable\n",
    "print(\"Train label: \", train_labels[:5]) # 25000 valores booleanos \n",
    "print(max([max(sequence) for sequence in train_data]))\n",
    "print(\"test data:\",test_data.shape,test_data[0]) #Lista de 25000 listas de longitud variable\n",
    "print(\"test label: \", test_labels[:5]) # 25000 valores booleanos "
   ]
  },
  {
   "cell_type": "code",
   "execution_count": 5,
   "metadata": {},
   "outputs": [
    {
     "ename": "KeyboardInterrupt",
     "evalue": "",
     "output_type": "error",
     "traceback": [
      "\u001b[1;31m---------------------------------------------------------------------------\u001b[0m",
      "\u001b[1;31mKeyboardInterrupt\u001b[0m                         Traceback (most recent call last)",
      "\u001b[1;32m~\\AppData\\Local\\Temp/ipykernel_7632/3295247232.py\u001b[0m in \u001b[0;36m<module>\u001b[1;34m\u001b[0m\n\u001b[0;32m      4\u001b[0m \u001b[0ma\u001b[0m \u001b[1;33m=\u001b[0m \u001b[0mnp\u001b[0m\u001b[1;33m.\u001b[0m\u001b[0marray\u001b[0m\u001b[1;33m(\u001b[0m\u001b[1;33m[\u001b[0m\u001b[1;33m]\u001b[0m\u001b[1;33m)\u001b[0m\u001b[1;33m\u001b[0m\u001b[1;33m\u001b[0m\u001b[0m\n\u001b[0;32m      5\u001b[0m \u001b[1;32mfor\u001b[0m \u001b[0mi\u001b[0m \u001b[1;32min\u001b[0m \u001b[0mrange\u001b[0m\u001b[1;33m(\u001b[0m\u001b[1;36m25000\u001b[0m\u001b[1;33m)\u001b[0m\u001b[1;33m:\u001b[0m\u001b[1;33m\u001b[0m\u001b[1;33m\u001b[0m\u001b[0m\n\u001b[1;32m----> 6\u001b[1;33m     \u001b[0ma\u001b[0m \u001b[1;33m=\u001b[0m \u001b[0mnp\u001b[0m\u001b[1;33m.\u001b[0m\u001b[0mconcatenate\u001b[0m\u001b[1;33m(\u001b[0m\u001b[1;33m(\u001b[0m\u001b[0ma\u001b[0m\u001b[1;33m,\u001b[0m\u001b[0mnp\u001b[0m\u001b[1;33m.\u001b[0m\u001b[0marray\u001b[0m\u001b[1;33m(\u001b[0m\u001b[0mtrain_data\u001b[0m\u001b[1;33m[\u001b[0m\u001b[0mi\u001b[0m\u001b[1;33m]\u001b[0m\u001b[1;33m)\u001b[0m\u001b[1;33m)\u001b[0m\u001b[1;33m,\u001b[0m\u001b[0maxis\u001b[0m\u001b[1;33m=\u001b[0m\u001b[1;36m0\u001b[0m\u001b[1;33m)\u001b[0m\u001b[1;33m\u001b[0m\u001b[1;33m\u001b[0m\u001b[0m\n\u001b[0m\u001b[0;32m      7\u001b[0m \u001b[0mprint\u001b[0m\u001b[1;33m(\u001b[0m\u001b[0mlen\u001b[0m\u001b[1;33m(\u001b[0m\u001b[0ma\u001b[0m\u001b[1;33m)\u001b[0m\u001b[1;33m)\u001b[0m\u001b[1;33m\u001b[0m\u001b[1;33m\u001b[0m\u001b[0m\n",
      "\u001b[1;32m<__array_function__ internals>\u001b[0m in \u001b[0;36mconcatenate\u001b[1;34m(*args, **kwargs)\u001b[0m\n",
      "\u001b[1;31mKeyboardInterrupt\u001b[0m: "
     ]
    }
   ],
   "source": [
    "import matplotlib.pyplot as plt\n",
    "import numpy as np\n",
    "\n",
    "a = np.array([])\n",
    "for i in range(25000):\n",
    "    a = np.concatenate((a,np.array(train_data[i])),axis=0)\n",
    "print(len(a))\n"
   ]
  },
  {
   "cell_type": "code",
   "execution_count": 6,
   "metadata": {},
   "outputs": [
    {
     "data": {
      "image/png": "[encoded data removed]",
      "text/plain": [
       "<Figure size 432x288 with 1 Axes>"
      ]
     },
     "metadata": {
      "needs_background": "light"
     },
     "output_type": "display_data"
    }
   ],
   "source": [
    "_=plt.hist(a,bins=128)"
   ]
  },
  {
   "cell_type": "code",
   "execution_count": 6,
   "metadata": {},
   "outputs": [
    {
     "name": "stdout",
     "output_type": "stream",
     "text": [
      "Primera review:  ? this film was just brilliant casting location scenery story direction everyone's really suited the part they played and you could just imagine being there robert ? is an amazing actor and now the same being director ? father came from the same scottish island as myself so i loved the fact there was a real connection with this film the witty remarks throughout the film were great it was just brilliant so much that i bought the film as soon as it was released for ? and would recommend it to everyone to watch and the fly fishing was amazing really cried at the end it was so sad and you know what they say if you cry at a film it must have been good and this definitely was also ? to the two little boy's that played the ? of norman and paul they were just brilliant children are often left out of the ? list i think because the stars that play them all grown up are such a big profile for the whole film but these children are amazing and should be praised for what they have done don't you think the whole story was so lovely because it was true and was someone's life after all that was shared with us all\n"
     ]
    }
   ],
   "source": [
    "word_index = imdb.get_word_index()\n",
    "reverse_word_index = dict(\n",
    "    [(value, key) for (key, value) in word_index.items()])\n",
    "decoded_review = ' '.join(\n",
    "    [reverse_word_index.get(i - 3, '?') for i in train_data[0]])\n",
    "print(\"Primera review: \", decoded_review)"
   ]
  },
  {
   "cell_type": "code",
   "execution_count": 17,
   "metadata": {},
   "outputs": [
    {
     "name": "stdout",
     "output_type": "stream",
     "text": [
      "x_train:  [0. 1. 1. ... 0. 0. 0.] (25000, 10000)\n",
      "x_test [0. 1. 1. ... 0. 0. 0.] (25000, 10000)\n"
     ]
    }
   ],
   "source": [
    "import numpy as np\n",
    "\n",
    "def vectorize_sequences(sequences, dimension=10000):\n",
    "    results = np.zeros((len(sequences), dimension))\n",
    "    for i, sequence in enumerate(sequences):\n",
    "        results[i, sequence] = 1.\n",
    "    return results\n",
    "\n",
    "x_train = vectorize_sequences(train_data)\n",
    "x_test  = vectorize_sequences(test_data)\n",
    "y_train = np.asarray(train_labels).astype('float32')\n",
    "y_test  = np.asarray(test_labels).astype('float32')\n",
    "\n",
    "print(\"x_train: \",x_train[25000-1],x_train.shape) # Lista de indices (el indice mas alto solo puede ser 9999)\n",
    "print(\"x_test\", x_test[0],x_test.shape)"
   ]
  },
  {
   "cell_type": "code",
   "execution_count": 18,
   "metadata": {},
   "outputs": [],
   "source": [
    "from tensorflow.keras import models, layers\n",
    "\n",
    "model = models.Sequential()\n",
    "model.add(layers.Dense(16, activation='relu', input_shape=(10000,)))\n",
    "model.add(layers.Dense(16, activation='relu'))\n",
    "model.add(layers.Dense(1, activation='sigmoid'))"
   ]
  },
  {
   "cell_type": "code",
   "execution_count": 10,
   "metadata": {},
   "outputs": [],
   "source": [
    "# model.compile(optimizer='rmsprop',\n",
    "#         loss='binary_crossentropy',\n",
    "#         metrics=['accuracy'])"
   ]
  },
  {
   "cell_type": "code",
   "execution_count": null,
   "metadata": {},
   "outputs": [],
   "source": [
    "# from tensorflow.keras import optimizers\n",
    "# model.compile(optimizer=optimizers.RMSprop(lr=0.001),\n",
    "#         loss='binary_crossentropy',\n",
    "#         metrics=['accuracy'])"
   ]
  },
  {
   "cell_type": "code",
   "execution_count": 19,
   "metadata": {},
   "outputs": [],
   "source": [
    "x_val = x_train[:10000]\n",
    "partial_x_train = x_train[10000:20000]\n",
    "y_val = y_train[:10000]\n",
    "partial_y_train = y_train[10000:20000]\n",
    "\n"
   ]
  },
  {
   "cell_type": "code",
   "execution_count": 20,
   "metadata": {},
   "outputs": [
    {
     "name": "stdout",
     "output_type": "stream",
     "text": [
      "Epoch 1/20\n",
      "20/20 [==============================] - 1s 27ms/step - loss: 0.5519 - acc: 0.7709 - val_loss: 0.4501 - val_acc: 0.8372\n",
      "Epoch 2/20\n",
      "20/20 [==============================] - 0s 10ms/step - loss: 0.3526 - acc: 0.8968 - val_loss: 0.3572 - val_acc: 0.8618\n",
      "Epoch 3/20\n",
      "20/20 [==============================] - 0s 10ms/step - loss: 0.2481 - acc: 0.9280 - val_loss: 0.3049 - val_acc: 0.8813\n",
      "Epoch 4/20\n",
      "20/20 [==============================] - 0s 10ms/step - loss: 0.1884 - acc: 0.9438 - val_loss: 0.3499 - val_acc: 0.8556\n",
      "Epoch 5/20\n",
      "20/20 [==============================] - 0s 10ms/step - loss: 0.1472 - acc: 0.9597 - val_loss: 0.3586 - val_acc: 0.8545\n",
      "Epoch 6/20\n",
      "20/20 [==============================] - 0s 10ms/step - loss: 0.1201 - acc: 0.9682 - val_loss: 0.3004 - val_acc: 0.8787\n",
      "Epoch 7/20\n",
      "20/20 [==============================] - 0s 10ms/step - loss: 0.0954 - acc: 0.9766 - val_loss: 0.3124 - val_acc: 0.8771\n",
      "Epoch 8/20\n",
      "20/20 [==============================] - 0s 10ms/step - loss: 0.0783 - acc: 0.9813 - val_loss: 0.3261 - val_acc: 0.8774\n",
      "Epoch 9/20\n",
      "20/20 [==============================] - 0s 10ms/step - loss: 0.0634 - acc: 0.9862 - val_loss: 0.3510 - val_acc: 0.8707\n",
      "Epoch 10/20\n",
      "20/20 [==============================] - 0s 10ms/step - loss: 0.0465 - acc: 0.9924 - val_loss: 0.3926 - val_acc: 0.8687\n",
      "Epoch 11/20\n",
      "20/20 [==============================] - 0s 10ms/step - loss: 0.0386 - acc: 0.9941 - val_loss: 0.3913 - val_acc: 0.8709\n",
      "Epoch 12/20\n",
      "20/20 [==============================] - 0s 10ms/step - loss: 0.0288 - acc: 0.9959 - val_loss: 0.4726 - val_acc: 0.8608\n",
      "Epoch 13/20\n",
      "20/20 [==============================] - 0s 10ms/step - loss: 0.0219 - acc: 0.9978 - val_loss: 0.4445 - val_acc: 0.8678\n",
      "Epoch 14/20\n",
      "20/20 [==============================] - 0s 10ms/step - loss: 0.0155 - acc: 0.9987 - val_loss: 0.4792 - val_acc: 0.8646\n",
      "Epoch 15/20\n",
      "20/20 [==============================] - 0s 10ms/step - loss: 0.0139 - acc: 0.9987 - val_loss: 0.5113 - val_acc: 0.8648\n",
      "Epoch 16/20\n",
      "20/20 [==============================] - 0s 10ms/step - loss: 0.0078 - acc: 0.9996 - val_loss: 0.5477 - val_acc: 0.8638\n",
      "Epoch 17/20\n",
      "20/20 [==============================] - 0s 10ms/step - loss: 0.0093 - acc: 0.9986 - val_loss: 0.5769 - val_acc: 0.8615\n",
      "Epoch 18/20\n",
      "20/20 [==============================] - 0s 11ms/step - loss: 0.0042 - acc: 0.9999 - val_loss: 0.6027 - val_acc: 0.8611\n",
      "Epoch 19/20\n",
      "20/20 [==============================] - 0s 10ms/step - loss: 0.0032 - acc: 0.9999 - val_loss: 0.6577 - val_acc: 0.8600\n",
      "Epoch 20/20\n",
      "20/20 [==============================] - 0s 9ms/step - loss: 0.0054 - acc: 0.9992 - val_loss: 0.6769 - val_acc: 0.8605\n"
     ]
    }
   ],
   "source": [
    "model.compile(optimizer='rmsprop',\n",
    "            loss='binary_crossentropy',\n",
    "            metrics=['acc'])\n",
    "history = model.fit(partial_x_train,\n",
    "                    partial_y_train,\n",
    "                    epochs=20,\n",
    "                    batch_size=512,\n",
    "                    validation_data=(x_val, y_val))"
   ]
  }
 ],
 "metadata": {
  "interpreter": {
   "hash": "2a1e47ec0b99f25bbe16ed3b2d04c7743a06dc9972bd3c87e52fa9eafc073781"
  },
  "kernelspec": {
   "display_name": "Python 3.8.8 ('base')",
   "language": "python",
   "name": "python3"
  },
  "language_info": {
   "codemirror_mode": {
    "name": "ipython",
    "version": 3
   },
   "file_extension": ".py",
   "mimetype": "text/x-python",
   "name": "python",
   "nbconvert_exporter": "python",
   "pygments_lexer": "ipython3",
   "version": "3.8.12"
  },
  "orig_nbformat": 4
 },
 "nbformat": 4,
 "nbformat_minor": 2
}
